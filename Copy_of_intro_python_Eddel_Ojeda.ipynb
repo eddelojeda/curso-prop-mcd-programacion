{
  "cells": [
    {
      "cell_type": "markdown",
      "metadata": {
        "id": "view-in-github",
        "colab_type": "text"
      },
      "source": [
        "<a href=\"https://colab.research.google.com/github/eddelojeda/curso-prop-mcd-programacion/blob/main/Copy_of_intro_python_Eddel_Ojeda.ipynb\" target=\"_parent\"><img src=\"https://colab.research.google.com/assets/colab-badge.svg\" alt=\"Open In Colab\"/></a>"
      ]
    },
    {
      "cell_type": "markdown",
      "metadata": {
        "id": "_YRVMN3ec9dH"
      },
      "source": [
        "<a href=\"https://colab.research.google.com/github/mcd-unison/material-programacion/blob/main/intro-python.ipynb\" target=\"_parent\"><img src=\"https://colab.research.google.com/assets/colab-badge.svg\" alt=\"Open In Colab\"/></a>"
      ]
    },
    {
      "cell_type": "markdown",
      "metadata": {
        "id": "ovJN3hPIc9dI"
      },
      "source": [
        "<center>\n",
        "<p><img src=\"https://mcd.unison.mx/wp-content/themes/awaken/img/logo_mcd.png\" width=\"100\">\n",
        "</p>\n",
        "\n",
        "\n",
        "# Curso Propedéutico en *Programación*\n",
        "\n",
        "## Introducción a `python` resolviendo preguntas\n",
        "\n",
        "\n",
        "**Instructor: Julio Waissman Vilanova**\n",
        "\n",
        "**Alumno: Eddel Eli OJeda Avilés**"
      ]
    },
    {
      "cell_type": "markdown",
      "metadata": {
        "id": "ibj5dt_uc9dI"
      },
      "source": [
        "### Tipos\n",
        "\n",
        "¿Cuales son los tipos de datos básicos? Revisa los tipos siguientes:\n",
        "\n",
        "1. Tipos numéricos `int`, `float`, `complex`\n",
        "2. Cadenas de caracteres\n",
        "3. Tuplas\n",
        "4. Listas\n",
        "5. Diccionarios\n",
        "6. Conjuntos\n",
        "\n",
        "Da ejemplo de sobrecarga de operadores (en particular `+` y `*`)\n",
        "\n"
      ]
    },
    {
      "cell_type": "code",
      "execution_count": null,
      "metadata": {
        "id": "LYAaMfmHc9dJ",
        "outputId": "2410551b-d99e-4e8b-e941-c10e92580253",
        "colab": {
          "base_uri": "https://localhost:8080/"
        }
      },
      "outputs": [
        {
          "output_type": "stream",
          "name": "stdout",
          "text": [
            "Tipos de datos básicos.\n",
            "int:\t 2 \n",
            "float:\t 3.14 \n",
            "complex: (2+3.14j) \n",
            "str:\t Ejemplo \n",
            "tuple:\t (2, 3.14) \n",
            "list:\t [2, 3.14] \n",
            "set:\t {2, 3.14} \n",
            "dict:\t {'int': 2, 'float': 3.14} \n",
            "\n",
            "Sobrecarga de operadores \"+\" y \"*\".\n",
            "f + f = f.__add__(f) = [2, 3.14, 2, 3.14] \n",
            "f * a = f.__mul__(a) = [2, 3.14, 2, 3.14]\n"
          ]
        }
      ],
      "source": [
        "# Tipos de datos básicos.\n",
        "a = 2\n",
        "b = 3.14\n",
        "c = 2 + 3.14j\n",
        "d = 'Ejemplo'\n",
        "e = (a, b)\n",
        "f = [a, b]\n",
        "g = {a, b}\n",
        "h = {'int': a, 'float': b}\n",
        "print('Tipos de datos básicos.\\nint:\\t', a,'\\nfloat:\\t', b,'\\ncomplex:', c,'\\nstr:\\t', d,'\\ntuple:\\t', e,'\\nlist:\\t', f,'\\nset:\\t', g,'\\ndict:\\t', h,'\\n')\n",
        "\n",
        "# Sobrecarga de operadores '+' y '*'.\n",
        "sum = f + f\n",
        "mul = f * a\n",
        "print('Sobrecarga de operadores \"+\" y \"*\".\\nf + f = f.__add__(f) =', sum,'\\nf * a = f.__mul__(a) =', mul)"
      ]
    },
    {
      "cell_type": "markdown",
      "metadata": {
        "id": "d7EHvsXzc9dJ"
      },
      "source": [
        "¿Que significa que unos tipos sean *mutables* y otros *inmutables*?\n",
        "\n",
        "Realiza un pequeño programa donde quede claro lo que significa que un tipo de datos sea mutable, e ilustra el uso del método `copy.deepcopy()`."
      ]
    },
    {
      "cell_type": "code",
      "execution_count": null,
      "metadata": {
        "id": "SaxR95ICc9dJ",
        "colab": {
          "base_uri": "https://localhost:8080/"
        },
        "outputId": "e1d17341-d2ca-42aa-8f7a-7e5591672acf"
      },
      "outputs": [
        {
          "output_type": "stream",
          "name": "stdout",
          "text": [
            "Ejemplo de objeto mutable (tipo lista):\n",
            "\n",
            "Objeto\t\t\t Address\n",
            "l1 = [0, 1]\t\t id(l1) = 139849573447744\n",
            "l2 = l1 \t\t id(l2) = 139849573447744\n",
            "l3 = copy.deepcopy(l1) \t id(l3) = 139849575065984\n",
            "\n",
            "Por lo tanto l1 y l2 son el mismo objeto, y l3 es un objeto distinto a l1 con sus mismos valores.\n",
            "\n",
            "Resultado de duplicar l2:\n",
            "l1 = [0, 1, 0, 1]\n",
            "l2 = [0, 1, 0, 1]\n",
            "l3 = [0, 1]\n",
            "\n",
            "Resultado de triplicar l3:\n",
            "l1 = [0, 1, 0, 1]\n",
            "l2 = [0, 1, 0, 1]\n",
            "l3 = [0, 1, 0, 1, 0, 1]\n",
            "\n"
          ]
        }
      ],
      "source": [
        "import copy\n",
        "\n",
        "l1 = [0,1]\n",
        "l2 = l1\n",
        "l3 = copy.deepcopy(l1)\n",
        "\n",
        "print('Ejemplo de objeto mutable (tipo lista):\\n\\nObjeto\\t\\t\\t Address\\nl1 = ', l1, '\\t\\t id(l1) = ',id(l1),'\\nl2 = l1 \\t\\t id(l2) = ',id(l2),\n",
        "      '\\nl3 = copy.deepcopy(l1) \\t id(l3) = ',id(l3),'\\n\\nPor lo tanto l1 y l2 son el mismo objeto, y l3 es un objeto distinto a l1 con sus mismos valores.\\n',sep='')\n",
        "\n",
        "l2 *= 2\n",
        "print('Resultado de duplicar l2:\\nl1 = ', l1, '\\nl2 = ',l2,'\\nl3 = ',l3,'\\n',sep='')\n",
        "\n",
        "l3 *= 3\n",
        "print('Resultado de triplicar l3:\\nl1 = ', l1, '\\nl2 = ',l2,'\\nl3 = ',l3,'\\n',sep='')"
      ]
    },
    {
      "cell_type": "markdown",
      "metadata": {
        "id": "ZHJ1T0G8c9dJ"
      },
      "source": [
        "### *Comprehension* de listas, conjuntos y diccionarios\n",
        "\n",
        "Escribe, en una sola linea, una expresión que genere una lista con todos los números enteros que se encuentran entre $1$ y $n$\n",
        "que sean divisibles por $3$ y $7$ y que el dígito menos significativo del número sea $6$."
      ]
    },
    {
      "cell_type": "code",
      "execution_count": null,
      "metadata": {
        "id": "xcAAjA2rc9dJ",
        "colab": {
          "base_uri": "https://localhost:8080/"
        },
        "outputId": "c1b0c35a-e663-4d15-97d5-0db1d467a385"
      },
      "outputs": [
        {
          "output_type": "stream",
          "name": "stdout",
          "text": [
            "Múltiplos de 21 entre 1 y 10000 que terminan en 6:\n",
            "\n",
            "[126, 336, 546, 756, 966, 1176, 1386, 1596, 1806, 2016, 2226, 2436, 2646, 2856, 3066, 3276, 3486, 3696, 3906, 4116, 4326, 4536, 4746, 4956, 5166, 5376, 5586, 5796, 6006, 6216, 6426, 6636, 6846, 7056, 7266, 7476, 7686, 7896, 8106, 8316, 8526, 8736, 8946, 9156, 9366, 9576, 9786, 9996]\n"
          ]
        }
      ],
      "source": [
        "n = 10_000\n",
        "\n",
        "# Lista de enteros entre 1 y n que son múltiplos de 3 y 7 (múltiplos de 21), y cuyo dígito de las unidades es 6.\n",
        "l = [x for x in range(1, n + 1) if x % 21 == 0 and x % 10 == 6]\n",
        "\n",
        "print('Múltiplos de 21 entre 1 y ', n, ' que terminan en 6:\\n\\n', l, sep='')"
      ]
    },
    {
      "cell_type": "markdown",
      "metadata": {
        "id": "9_XJk6o0c9dK"
      },
      "source": [
        "### Funciones\n",
        "\n",
        "Escribe una función que:\n",
        "\n",
        "1. reciba una lista de elementos (letras, números, lo que sea),\n",
        "2. cuente la ocurrencia de cada elemento en la lista,\n",
        "3. devuelva las ocurrencias en forma de diccionario,\n",
        "4. si imprime es True, imprima un histograma de ocurrencias, por ejemplo:\n",
        "\n",
        "```python\n",
        "\n",
        "lista = [1,'a',1, 13, 'hola', 'a', 1, 1, 'a', 1]\n",
        "\n",
        "d = funcion_ejemplo(lista, imprime = True)\n",
        "\n",
        "1    \t\t***** \t(5 -> 50%)\n",
        "'a'  \t\t***   \t(3 -> 30%)\n",
        "13\t\t*\t(1 -> 10%)\n",
        "'hola'\t\t*\t(1 -> 10%)\n",
        "\n",
        "```"
      ]
    },
    {
      "cell_type": "code",
      "execution_count": null,
      "metadata": {
        "id": "vqWpWlOFc9dK"
      },
      "outputs": [],
      "source": [
        "def funcion_ejemplo(lista,imprime=False):\n",
        "    \"\"\"\n",
        "    Genera un diccionario con las ocurrencias de cada elemento diferente de la lista.\n",
        "\n",
        "    Si imprime == True, imprime en pantalla un histograma de las ocurrencias.\n",
        "    \"\"\"\n",
        "\n",
        "    # Creación de diccionario {elemento : ocurrencia}\n",
        "    dic = {x: lista.count(x) for x in set(lista)}\n",
        "\n",
        "    # Impresión de histograma de ocurrencias\n",
        "    if imprime:\n",
        "      for (x,n_x) in dic.items():\n",
        "        print(x,'\\t', '*' * n_x,'\\t(', n_x, ' -> ', round(100 * n_x / len(lista)), '%)\\n', sep='')\n",
        "\n",
        "    return dic"
      ]
    },
    {
      "cell_type": "code",
      "execution_count": null,
      "metadata": {
        "id": "vfDKRQinc9dK",
        "colab": {
          "base_uri": "https://localhost:8080/"
        },
        "outputId": "5160f296-025c-41c0-87c9-860fbbfd52f8"
      },
      "outputs": [
        {
          "output_type": "stream",
          "name": "stdout",
          "text": [
            "a\t***\t(3 -> 30%)\n",
            "\n",
            "1\t*****\t(5 -> 50%)\n",
            "\n",
            "hola\t*\t(1 -> 10%)\n",
            "\n",
            "13\t*\t(1 -> 10%)\n",
            "\n"
          ]
        }
      ],
      "source": [
        "# Realiza pruebas aquí\n",
        "lista = [1,'a',1, 13, 'hola', 'a', 1, 1, 'a', 1]\n",
        "d = funcion_ejemplo(lista, imprime = True)"
      ]
    },
    {
      "cell_type": "markdown",
      "metadata": {
        "id": "DhOjxwrcc9dK"
      },
      "source": [
        "Escribe una función que modifique un diccionario y regrese el diccionario modificado y una copia del original, donde cada entrada\n",
        "del diccionario sea una lista de valores. Ten en cuenta que si una entrada del diccionario es de tipo mutable, al modificarlo en la\n",
        "copia se modifica el original. Utiliza el modulo `copy` para evitar este problema. Ejemplo de la función:\n",
        "\n",
        "```python\n",
        "dic1 = {'Pepe':[12, 'enero', 1980], 'Carolina':[15,'mayo',1975],'Paco':[10,'nov',1970]}\n",
        "dic2 = fundicos(dic1, 'Pepe', 1, 'febrero')\n",
        "\n",
        "print(dic1)\n",
        "{'Pepe':[12, 'enero', 1980], 'Carolina':[15,'mayo',1975],'Paco':[10,'nov',1970]}\n",
        "\n",
        "print(dic2)\n",
        "{'Pepe':[12, 'febrero', 1980], 'Carolina':[15,'mayo',1975],'Paco':[10,'nov',1970]}\n",
        "```"
      ]
    },
    {
      "cell_type": "code",
      "execution_count": null,
      "metadata": {
        "id": "ApFENH3Hc9dK"
      },
      "outputs": [],
      "source": [
        "def fundicos(dic1,entrada,elemento,remplazo):\n",
        "    \"\"\"\n",
        "    Genera y modifica una copia de un diccionario donde cada entrada del diccionario es una lista de valores.\n",
        "\n",
        "    entrada: Entrada del diccionario a modificar.\n",
        "    elemento: Elemento a modificar en la lista correspondiente a la entrada 'entry' del diccionario.\n",
        "    remplazo: Reemplazo del valor 'element' en la lista a modificar.\n",
        "    \"\"\"\n",
        "\n",
        "    # Copia modificada del directorio\n",
        "    dic2 = copy.deepcopy(dic1)\n",
        "    dic2[entrada][elemento] = remplazo\n",
        "\n",
        "    return dic2"
      ]
    },
    {
      "cell_type": "code",
      "execution_count": null,
      "metadata": {
        "id": "WlSvXvLVc9dK",
        "colab": {
          "base_uri": "https://localhost:8080/"
        },
        "outputId": "8a4c3b96-1c1b-4eb3-91f8-27f8437b34a0"
      },
      "outputs": [
        {
          "output_type": "stream",
          "name": "stdout",
          "text": [
            "{'Pepe': [12, 'enero', 1980], 'Carolina': [15, 'mayo', 1975], 'Paco': [10, 'nov', 1970]}\n",
            "{'Pepe': [12, 'febrero', 1980], 'Carolina': [15, 'mayo', 1975], 'Paco': [10, 'nov', 1970]}\n"
          ]
        }
      ],
      "source": [
        "# Realiza pruebas de fundicos aquí\n",
        "dic1 = {'Pepe':[12, 'enero', 1980], 'Carolina':[15,'mayo',1975],'Paco':[10,'nov',1970]}\n",
        "dic2 = fundicos(dic1, 'Pepe', 1, 'febrero')\n",
        "\n",
        "print(dic1)\n",
        "print(dic2)"
      ]
    },
    {
      "cell_type": "markdown",
      "metadata": {
        "id": "d1jDOFaUc9dK"
      },
      "source": [
        "### Generadores\n",
        "\n",
        "Escribe un generador que reciba una lista y genere todas las permutaciones que se puedan hacer con los elementos de la lista"
      ]
    },
    {
      "cell_type": "code",
      "execution_count": null,
      "metadata": {
        "id": "Yh8lcz93c9dK"
      },
      "outputs": [],
      "source": [
        "# Escribe aqui fun1\n",
        "\n",
        "def permutaciones(lista):\n",
        "    \"\"\"\n",
        "    Permutaciones de los elementos de una lista.\n",
        "\n",
        "    Devuelve un generador con todas las permutaciones posibles de los elementos de la lista de entrada.\n",
        "    \"\"\"\n",
        "\n",
        "    # Paso base\n",
        "    if len(lista) == 0:\n",
        "      yield lista\n",
        "    else:\n",
        "      for (i,elemento) in enumerate(lista):\n",
        "        lista_menos_elemento = lista[:i] + lista[i+1:]\n",
        "        for p in permutaciones(lista_menos_elemento):\n",
        "          yield [elemento] + p"
      ]
    },
    {
      "cell_type": "code",
      "execution_count": null,
      "metadata": {
        "id": "WKZR1s4rc9dL",
        "colab": {
          "base_uri": "https://localhost:8080/"
        },
        "outputId": "7938964f-b171-4275-fc7d-295308c29460"
      },
      "outputs": [
        {
          "output_type": "stream",
          "name": "stdout",
          "text": [
            "['a', 'b', 'c', 'd']\n",
            "['a', 'b', 'd', 'c']\n",
            "['a', 'c', 'b', 'd']\n",
            "['a', 'c', 'd', 'b']\n",
            "['a', 'd', 'b', 'c']\n",
            "['a', 'd', 'c', 'b']\n",
            "['b', 'a', 'c', 'd']\n",
            "['b', 'a', 'd', 'c']\n",
            "['b', 'c', 'a', 'd']\n",
            "['b', 'c', 'd', 'a']\n",
            "['b', 'd', 'a', 'c']\n",
            "['b', 'd', 'c', 'a']\n",
            "['c', 'a', 'b', 'd']\n",
            "['c', 'a', 'd', 'b']\n",
            "['c', 'b', 'a', 'd']\n",
            "['c', 'b', 'd', 'a']\n",
            "['c', 'd', 'a', 'b']\n",
            "['c', 'd', 'b', 'a']\n",
            "['d', 'a', 'b', 'c']\n",
            "['d', 'a', 'c', 'b']\n",
            "['d', 'b', 'a', 'c']\n",
            "['d', 'b', 'c', 'a']\n",
            "['d', 'c', 'a', 'b']\n",
            "['d', 'c', 'b', 'a']\n"
          ]
        }
      ],
      "source": [
        "# Realiza pruebas de fun2 aquí\n",
        "for p in permutaciones(['a', 'b', 'c', 'd']):\n",
        "    print(p)"
      ]
    },
    {
      "cell_type": "markdown",
      "metadata": {
        "id": "uFbrg505c9dL"
      },
      "source": [
        "Ahora escribe una funcipn que reciba 4 digitos del 0 al 9, y devuelva una lista con todas las horas váidas que se puedan hacer con estos dígitos en forma de lista de strings con la forma `\"HH:MM\"`."
      ]
    },
    {
      "cell_type": "code",
      "execution_count": null,
      "metadata": {
        "id": "VVc7TrK3c9dL"
      },
      "outputs": [],
      "source": [
        "def horas_validas(lista):\n",
        "    \"\"\"\n",
        "    Genera una lista de strings con todas las horas válidas (formato de 24 horas) que se pueden obtener usando los 4 dígitos de la lista de entrada.\n",
        "    \"\"\"\n",
        "\n",
        "    # Validación de cada permutación de los 4 dígitos en la lista de entrada como una hora dentro del formato de 24 horas.\n",
        "    horas = []\n",
        "    for p in permutaciones(lista):\n",
        "      if p[0] < 3 and p[0] * (p[1]+2) < 12 and p[2] < 6:\n",
        "        horas.append(str(p[0])+str(p[1])+':'+str(p[2])+str(p[3]))\n",
        "\n",
        "    return horas"
      ]
    },
    {
      "cell_type": "markdown",
      "metadata": {
        "id": "a0v2i4dOc9dL"
      },
      "source": [
        "Validando:"
      ]
    },
    {
      "cell_type": "code",
      "execution_count": null,
      "metadata": {
        "id": "AYrpFgoQc9dL",
        "colab": {
          "base_uri": "https://localhost:8080/"
        },
        "outputId": "582f6bfc-504b-4a1a-8eca-6a929466b2fe"
      },
      "outputs": [
        {
          "output_type": "stream",
          "name": "stdout",
          "text": [
            "['12:34', '12:43', '13:24', '13:42', '14:23', '14:32', '21:34', '21:43', '23:14', '23:41']\n"
          ]
        }
      ],
      "source": [
        "print(horas_validas([1,2,3,4]))"
      ]
    },
    {
      "cell_type": "markdown",
      "metadata": {
        "id": "j77jwfDTc9dL"
      },
      "source": [
        "Escribe una función, lo más compacta posible, que escoja entre los 3 patrones ascii a continuación, e imprima en pantalla\n",
        "el deseado, pero de dimensión $n$ ($n \\ge 4$), toma en cuanta que para algunos valores de $n$ habrá\n",
        "algún(os) patrones que no se puedan hacer.\n",
        "\n",
        "```\n",
        "          *             ++++           oooooooo\n",
        "          **            ++++           ooo  ooo\n",
        "          ***           ++++           oo    oo\n",
        "          ****          ++++           o      o\n",
        "          *****             ++++       o      o\n",
        "          ******            ++++       oo    oo\n",
        "          *******           ++++       ooo  ooo\n",
        "          ********          ++++       oooooooo\n",
        "\n",
        "```"
      ]
    },
    {
      "cell_type": "code",
      "execution_count": null,
      "metadata": {
        "id": "-ux53c2xc9dL"
      },
      "outputs": [],
      "source": [
        "from math import floor\n",
        "\n",
        "def patrones(dim,pat):\n",
        "    \"\"\"\n",
        "    Imprime el patrón ascii seleccionado con la dimensión elegida.\n",
        "\n",
        "    dim: Dimensión del patrón (dim >=4).\n",
        "    pat: Patrón a imprimir dentro de los formatos consideraros {1,2,3}\n",
        "         1) *          2) ++++        3) oooooooo\n",
        "            **            ++++           ooo  ooo\n",
        "            ***           ++++           oo    oo\n",
        "            ****          ++++           o      o\n",
        "            *****             ++++       o      o\n",
        "            ******            ++++       oo    oo\n",
        "            *******           ++++       ooo  ooo\n",
        "            ********          ++++       oooooooo\n",
        "    \"\"\"\n",
        "    if dim < 4 and pat < 3:\n",
        "      print('error \"El valor de dim debe ser mayor o igual que 4.\"')\n",
        "    elif pat == 1:\n",
        "      for i in range(1,dim+1):\n",
        "        print('*' * i)\n",
        "    elif pat == 2:\n",
        "      if dim % 2 == 1:\n",
        "        print('error \"Para el patrón 2 es necesario que dim sea número par.\"')\n",
        "      else:\n",
        "        half_dim = int(dim/2)\n",
        "        for i in range(1,dim+1):\n",
        "          if i < half_dim + 1:\n",
        "            print('+' * half_dim)\n",
        "          else:\n",
        "            print(' ' * half_dim, '+' * half_dim)\n",
        "    elif pat == 3:\n",
        "      if dim < 5:\n",
        "        print('error \"Para el patrón 3 el valor de dim debe ser mayor o igual que 5.\"')\n",
        "      else:\n",
        "        if dim % 2 == 0:\n",
        "          half_dim = int(dim/2)\n",
        "          for i in range(half_dim):\n",
        "            print('o' * (half_dim-i),' ' * 2 * i,'o' * (half_dim-i),sep='')\n",
        "          for i in range(1,half_dim+1):\n",
        "            print('o' * i,' ' * 2 * (half_dim-i),'o' * i,sep='')\n",
        "        else:\n",
        "          fhalf_dim = floor(dim/2)\n",
        "          print('o' * dim)\n",
        "          for i in range(1,fhalf_dim+1):\n",
        "            print('o' * (fhalf_dim+1-i),' ' * (2 *i - 1),'o' * (fhalf_dim+1-i),sep='')\n",
        "          for i in range(2,fhalf_dim+1):\n",
        "            print('o' * i,' ' * (dim - 2 * i),'o' * i,sep='')\n",
        "          print('o' * dim)\n",
        "\n",
        "    else:\n",
        "      print('error \"Patrón no encontrado. Pat debe tomar un valor en {1,2,3}.\"')"
      ]
    },
    {
      "cell_type": "code",
      "execution_count": null,
      "metadata": {
        "id": "_Yd70sXlc9dL",
        "colab": {
          "base_uri": "https://localhost:8080/"
        },
        "outputId": "d385d1d1-b841-4543-baa8-75997b9163aa"
      },
      "outputs": [
        {
          "output_type": "stream",
          "name": "stdout",
          "text": [
            "*\n",
            "**\n",
            "***\n",
            "****\n",
            "*****\n",
            "******\n",
            "*******\n",
            "********\n",
            "\n",
            "\n",
            "++++\n",
            "++++\n",
            "++++\n",
            "++++\n",
            "     ++++\n",
            "     ++++\n",
            "     ++++\n",
            "     ++++\n",
            "\n",
            "\n",
            "oooooooo\n",
            "ooo  ooo\n",
            "oo    oo\n",
            "o      o\n",
            "o      o\n",
            "oo    oo\n",
            "ooo  ooo\n",
            "oooooooo\n"
          ]
        }
      ],
      "source": [
        "patrones(8,1)\n",
        "print('\\n')\n",
        "patrones(8,2)\n",
        "print('\\n')\n",
        "patrones(8,3)\n"
      ]
    },
    {
      "cell_type": "markdown",
      "metadata": {
        "id": "NyRwNoFLc9dL"
      },
      "source": [
        "### Clases y objetos\n",
        "\n",
        "Diseña una clase Matriz con las siguientes características:\n",
        "\n",
        "1. Como inicialización de un objeto es necesario conocer $n$, $m$ y tipo. En caso de no proporcionar $m$ la matriz se asume cuadrada de $n \\times n$. En caso de no proporcionar $n$ la matriz tendrá una dimensión de $1 \\times 1$.\n",
        "2. De no especificarse todos los elementos se inicializan a 0, a menos que exista un tipo especial ( `unos` o `diag` por el momento).\n",
        "3. Implementa con sobrecarga la suma de matrices, la multiplicación de matrices y la multiplicación por un escalar.\n",
        "4. Implementa como métodos eliminar columna y eliminar fila.   \n",
        "5. Programa la representación visual de la matriz.\n",
        "6. Ten en cuenta tambien el manejo de errores.\n",
        "\n",
        "\n",
        "Ejemplo de uso:\n",
        "\n",
        "```\n",
        ">>> A = Matriz(n=3, m=4)\n",
        "\n",
        ">>> print(A)\n",
        "0 0 0 0\n",
        "0 0 0 0\n",
        "0 0 0 0\n",
        "\n",
        ">>> A = A.quitafila(2)\n",
        "\n",
        ">>> print(A)\n",
        "0 0 0 0\n",
        "0 0 0 0\n",
        "\n",
        ">>> B = Matriz(4,4,'diag')\n",
        "\n",
        ">>> print(B)\n",
        "1 0 0 0\n",
        "0 1 0 0\n",
        "0 0 1 0\n",
        "0 0 0 1\n",
        "\n",
        ">>> C = Matriz(4,1,'unos')\n",
        "\n",
        ">>> print(C)\n",
        "1\n",
        "1\n",
        "1\n",
        "1\n",
        "\n",
        ">>> D = 3 * B * C\n",
        "\n",
        ">>> print(D)\n",
        "3\n",
        "3\n",
        "3\n",
        "3\n",
        "\n",
        ">>> E = 3 * B + C\n",
        "error \"No seas menso, si no son de la misma dimensión las matrices no se pueden sumar\"\n",
        "```"
      ]
    },
    {
      "cell_type": "code",
      "execution_count": null,
      "metadata": {
        "id": "I9zjF2HLc9dL"
      },
      "outputs": [],
      "source": [
        "class Matriz:\n",
        "  # Inicialización de objetos de la clase Matriz\n",
        "  def __init__(self,nrows,ncols,tipo=''):\n",
        "      self.nrows = nrows\n",
        "      self.ncols = ncols\n",
        "      if tipo == '':\n",
        "        self.matriz = [[0 for i in range(ncols)] for j in range(nrows)]\n",
        "      elif tipo == 'unos':\n",
        "        self.matriz = [[1 for i in range(ncols)] for j in range(nrows)]\n",
        "      elif tipo == 'diag':\n",
        "        if self.nrows == self.ncols:\n",
        "          self.matriz = [[0 for i in range(ncols)] for j in range(nrows)]\n",
        "          for i in range(self.nrows):\n",
        "            self.matriz[i][i] += 1\n",
        "        else:\n",
        "          print('error \"El número de filas y columnas debe ser igual para que una matiz sea diagonal\"')\n",
        "\n",
        "  # Formato de impresión de los objetos en la clase Matriz\n",
        "  def __str__(self):\n",
        "      space = ' '\n",
        "      for i in range(self.nrows):\n",
        "        for j in range(self.ncols):\n",
        "          print(str(self.matriz[i][j])+' ', end ='')\n",
        "        print(' ')\n",
        "      return str('')\n",
        "\n",
        "  # Elimina fila de una matriz\n",
        "  def quitafila(self,row):\n",
        "      \"\"\"\n",
        "      Devuelve la matriz obtenida al eliminar la fila seleccionada.\n",
        "\n",
        "      row: Número de fila a eliminar de en la matriz.\n",
        "      \"\"\"\n",
        "      if row <= self.nrows:\n",
        "        Q = Matriz(self.nrows-1,self.ncols)\n",
        "        for i in range(self.nrows-1):\n",
        "          for j in range(self.ncols):\n",
        "            if i < row:\n",
        "              Q.matriz[i][j] = self.matriz[i][j]\n",
        "            else:\n",
        "              Q.matriz[i][j] = self.matriz[i+1][j]\n",
        "        return Q\n",
        "      else:\n",
        "        print('error \"Fila no encontrada. El número de fila a quitar debe ser menor o igual que\"',self.nrows)\n",
        "\n",
        "  # Elimina fila de una matriz\n",
        "  def quitacolumna(self,col):\n",
        "      \"\"\"\n",
        "      Devuelve la matriz obtenida al eliminar la fila seleccionada.\n",
        "\n",
        "      row: Número de fila a eliminar de en la matriz.\n",
        "      \"\"\"\n",
        "      if col <= self.ncols:\n",
        "        Q = Matriz(self.nrows,self.ncols-1)\n",
        "        for i in range(self.nrows):\n",
        "          for j in range(self.ncols-1):\n",
        "            if j < col:\n",
        "              Q.matriz[i][j] = self.matriz[i][j]\n",
        "            else:\n",
        "              Q.matriz[i][j] = self.matriz[i][j+1]\n",
        "        return Q\n",
        "      else:\n",
        "        print('error \"Columna no encontrada. El número de columna a quitar debe ser menor o igual que\"',self.ncols)\n",
        "\n",
        "  # Suma de matrices\n",
        "  def __add__(self,A):\n",
        "      if self.nrows == A.nrows and self.ncols == A.ncols:\n",
        "        S = Matriz(self.nrows,self.ncols)\n",
        "        for i in range(self.nrows):\n",
        "          for j in range(self.ncols):\n",
        "            S.matriz[i][j] = self.matriz[i][j] + A.matriz[i][j]\n",
        "      else:\n",
        "        print('error \"No es posible sumar matrices con dimensiones diferentes\"')\n",
        "      return S\n",
        "\n",
        "  # Multiplica un escalar por una matriz por la izquierda\n",
        "  def mul_scalar(self,n):\n",
        "      M = Matriz(self.nrows, self.ncols)\n",
        "      for i in range(self.nrows):\n",
        "        for j in range(self.ncols):\n",
        "          M.matriz[i][j] = n * self.matriz[i][j]\n",
        "      return M\n",
        "\n",
        "  # Multiplica una matriz o escalar por una matriz por la izquierda\n",
        "  def __mul__(self,A):\n",
        "      if isinstance(A, Matriz):\n",
        "        if self.ncols == A.nrows:\n",
        "          M = Matriz(self.nrows,A.ncols)\n",
        "          for i in range(self.nrows):\n",
        "            for j in range(A.ncols):\n",
        "              for k in range(self.ncols):\n",
        "                M.matriz[i][j] += self.matriz[i][k] * A.matriz[k][j]\n",
        "        else:\n",
        "          print('error \"No seas menso, si no son de la misma dimensión las matrices no se pueden sumar\"')\n",
        "      else:\n",
        "        M = self.mul_scalar(A)\n",
        "      return M\n",
        "\n",
        "  # Multiplica un escalar por una matriz por la derecha\n",
        "  def __rmul__(self,n):\n",
        "      M = self.mul_scalar(n)\n",
        "      return M"
      ]
    },
    {
      "cell_type": "code",
      "execution_count": null,
      "metadata": {
        "id": "xDL1GeQlc9dM",
        "colab": {
          "base_uri": "https://localhost:8080/"
        },
        "outputId": "4a4228d6-2db5-48eb-c876-abd705216270"
      },
      "outputs": [
        {
          "output_type": "stream",
          "name": "stdout",
          "text": [
            "Matriz de ceros (A)\n",
            "0 0 0 0  \n",
            "0 0 0 0  \n",
            "0 0 0 0  \n",
            "\n",
            "Matriz diagonal (B)\n",
            "1 0 0 0  \n",
            "0 1 0 0  \n",
            "0 0 1 0  \n",
            "0 0 0 1  \n",
            "\n",
            "Matriz de unos (C)\n",
            "1 1  \n",
            "1 1  \n",
            "1 1  \n",
            "1 1  \n",
            "\n",
            "Matriz B despues de eliminar su segunda fila\n",
            "1 0 0 0  \n",
            "0 0 1 0  \n",
            "0 0 0 1  \n",
            "\n",
            "Matriz B despues de eliminar la primer columna\n",
            "0 0 0  \n",
            "1 0 0  \n",
            "0 1 0  \n",
            "0 0 1  \n",
            "\n",
            "Producto B*C\n",
            "1 1  \n",
            "1 1  \n",
            "1 1  \n",
            "1 1  \n",
            "\n",
            "Producto B*3\n",
            "3 0 0 0  \n",
            "0 3 0 0  \n",
            "0 0 3 0  \n",
            "0 0 0 3  \n",
            "\n",
            "Producto 5*B\n",
            "5 0 0 0  \n",
            "0 5 0 0  \n",
            "0 0 5 0  \n",
            "0 0 0 5  \n",
            "\n"
          ]
        }
      ],
      "source": [
        "# Realiza las pruebas a la clase aquí\n",
        "A = Matriz(3,4)\n",
        "print('Matriz de ceros (A)')\n",
        "print(A)\n",
        "\n",
        "print('Matriz diagonal (B)')\n",
        "B = Matriz(4,4,'diag')\n",
        "print(B)\n",
        "\n",
        "print('Matriz de unos (C)')\n",
        "C = Matriz(4,2,'unos')\n",
        "print(C)\n",
        "\n",
        "print('Matriz B despues de eliminar su segunda fila')\n",
        "Bc = B.quitafila(1)\n",
        "print(Bc)\n",
        "\n",
        "print('Matriz B despues de eliminar la primer columna')\n",
        "Bc = B.quitacolumna(0)\n",
        "print(Bc)\n",
        "\n",
        "D = B * C\n",
        "print('Producto B*C')\n",
        "print(D)\n",
        "\n",
        "E = B * 3\n",
        "print('Producto B*3')\n",
        "print(E)\n",
        "\n",
        "F = 5 * B\n",
        "print('Producto 5*B')\n",
        "print(F)"
      ]
    }
  ],
  "metadata": {
    "kernelspec": {
      "display_name": "ing-caract",
      "language": "python",
      "name": "python3"
    },
    "language_info": {
      "codemirror_mode": {
        "name": "ipython",
        "version": 3
      },
      "file_extension": ".py",
      "mimetype": "text/x-python",
      "name": "python",
      "nbconvert_exporter": "python",
      "pygments_lexer": "ipython3",
      "version": "3.8.13"
    },
    "orig_nbformat": 4,
    "colab": {
      "provenance": [],
      "include_colab_link": true
    }
  },
  "nbformat": 4,
  "nbformat_minor": 0
}